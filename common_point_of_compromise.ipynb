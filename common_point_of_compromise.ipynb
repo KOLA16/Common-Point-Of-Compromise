{
 "cells": [
  {
   "cell_type": "markdown",
   "metadata": {},
   "source": [
    "# Identifying A Common Point of Compromise\n",
    "\n",
    "## Background \n",
    "A common point of compromise is a breach point used by fraudsters to collect card data. This can be a physical location, such as a skimmer fitted on an ATM; alternatively, a virtual breach, such as data stolen from a merchant’s database of transactions, can be the point of compromise. Identifying common points of compromise is important for commercial banks, as it allows them to block or monitor other accounts at risk of fraud.\n",
    "Exploitation of a common point of compromise typically occurs in a two-stage process. \n",
    "In the first stage of the compromise, account details are harvested from the compromise point. In the second stage of the compromise, these compromised account details are used to make fraudulent transactions. There is typically a delay of several days between harvest and exploit, as it takes time for a fraudster to process the data that they have harvested.\n",
    "\n",
    "## Task\n",
    "In this task we are given a dataset of transactions from a 30-day period and we are told that one of the merchants in the dataset was compromised by the fraudsters. The customer accounts that transacted with that merchant during that period are at risk of fraud.\n",
    "\n",
    "I will use the provided dataset to answer the questions:\n",
    "- What is the identity of the compromised merchant?\n",
    "- What are the dates of the compromise? (When the fraudsters harvested the data)\n",
    "- What are the dates of the exploitation? (When the fraudsters used the stolen data to perform fraudulent transactions)\n",
    "\n",
    "In general, my approach will involve the following steps:\n",
    "   1. Identify the dates of exploit of the defrauded data. \n",
    "   2. Based on the dates of exploit, identify the set of defrauded accounts.\n",
    "   3. Identify the potential compromised merchant based on the total number of \n",
    "      defrauded accounts transacted with.\n",
    "   4. Check if the number of defrauded accounts that transacted with the suspected merchant\n",
    "      peaks in some time before the exploitation dates. \n",
    "   5. If we find such a peak it will prove the merchant to be compromised and the days\n",
    "      of the peak will be our dates of the compromise."
   ]
  },
  {
   "cell_type": "code",
   "execution_count": 1,
   "metadata": {},
   "outputs": [],
   "source": [
    "import pandas as pd\n",
    "import matplotlib\n",
    "%matplotlib inline\n",
    "matplotlib.style.use('ggplot')"
   ]
  },
  {
   "cell_type": "markdown",
   "metadata": {},
   "source": [
    "# Dataset\n",
    "\n",
    "Our dataset is given in a single .csv file which contains the following columns:\n",
    "- account (unique id of the customer's account)\n",
    "- date (date of the transaction)\n",
    "- fraud (boolean flag for fraud)\n",
    "- merchant (unique id of the merchant)"
   ]
  },
  {
   "cell_type": "code",
   "execution_count": 2,
   "metadata": {},
   "outputs": [
    {
     "data": {
      "text/html": [
       "<div>\n",
       "<style scoped>\n",
       "    .dataframe tbody tr th:only-of-type {\n",
       "        vertical-align: middle;\n",
       "    }\n",
       "\n",
       "    .dataframe tbody tr th {\n",
       "        vertical-align: top;\n",
       "    }\n",
       "\n",
       "    .dataframe thead th {\n",
       "        text-align: right;\n",
       "    }\n",
       "</style>\n",
       "<table border=\"1\" class=\"dataframe\">\n",
       "  <thead>\n",
       "    <tr style=\"text-align: right;\">\n",
       "      <th></th>\n",
       "      <th>account</th>\n",
       "      <th>date</th>\n",
       "      <th>fraud</th>\n",
       "      <th>merchant</th>\n",
       "    </tr>\n",
       "  </thead>\n",
       "  <tbody>\n",
       "    <tr>\n",
       "      <th>0</th>\n",
       "      <td>A0</td>\n",
       "      <td>2015-01-01</td>\n",
       "      <td>False</td>\n",
       "      <td>M98</td>\n",
       "    </tr>\n",
       "    <tr>\n",
       "      <th>1</th>\n",
       "      <td>A0</td>\n",
       "      <td>2015-01-01</td>\n",
       "      <td>False</td>\n",
       "      <td>M50</td>\n",
       "    </tr>\n",
       "    <tr>\n",
       "      <th>2</th>\n",
       "      <td>A0</td>\n",
       "      <td>2015-01-01</td>\n",
       "      <td>False</td>\n",
       "      <td>M55</td>\n",
       "    </tr>\n",
       "    <tr>\n",
       "      <th>3</th>\n",
       "      <td>A0</td>\n",
       "      <td>2015-01-01</td>\n",
       "      <td>False</td>\n",
       "      <td>M14</td>\n",
       "    </tr>\n",
       "    <tr>\n",
       "      <th>4</th>\n",
       "      <td>A0</td>\n",
       "      <td>2015-01-01</td>\n",
       "      <td>False</td>\n",
       "      <td>M10</td>\n",
       "    </tr>\n",
       "    <tr>\n",
       "      <th>...</th>\n",
       "      <td>...</td>\n",
       "      <td>...</td>\n",
       "      <td>...</td>\n",
       "      <td>...</td>\n",
       "    </tr>\n",
       "    <tr>\n",
       "      <th>89846</th>\n",
       "      <td>A998</td>\n",
       "      <td>2015-01-30</td>\n",
       "      <td>False</td>\n",
       "      <td>M70</td>\n",
       "    </tr>\n",
       "    <tr>\n",
       "      <th>89847</th>\n",
       "      <td>A998</td>\n",
       "      <td>2015-01-30</td>\n",
       "      <td>False</td>\n",
       "      <td>M67</td>\n",
       "    </tr>\n",
       "    <tr>\n",
       "      <th>89848</th>\n",
       "      <td>A999</td>\n",
       "      <td>2015-01-30</td>\n",
       "      <td>False</td>\n",
       "      <td>M59</td>\n",
       "    </tr>\n",
       "    <tr>\n",
       "      <th>89849</th>\n",
       "      <td>A999</td>\n",
       "      <td>2015-01-30</td>\n",
       "      <td>False</td>\n",
       "      <td>M42</td>\n",
       "    </tr>\n",
       "    <tr>\n",
       "      <th>89850</th>\n",
       "      <td>A999</td>\n",
       "      <td>2015-01-30</td>\n",
       "      <td>False</td>\n",
       "      <td>M75</td>\n",
       "    </tr>\n",
       "  </tbody>\n",
       "</table>\n",
       "<p>89851 rows × 4 columns</p>\n",
       "</div>"
      ],
      "text/plain": [
       "      account        date  fraud merchant\n",
       "0          A0  2015-01-01  False      M98\n",
       "1          A0  2015-01-01  False      M50\n",
       "2          A0  2015-01-01  False      M55\n",
       "3          A0  2015-01-01  False      M14\n",
       "4          A0  2015-01-01  False      M10\n",
       "...       ...         ...    ...      ...\n",
       "89846    A998  2015-01-30  False      M70\n",
       "89847    A998  2015-01-30  False      M67\n",
       "89848    A999  2015-01-30  False      M59\n",
       "89849    A999  2015-01-30  False      M42\n",
       "89850    A999  2015-01-30  False      M75\n",
       "\n",
       "[89851 rows x 4 columns]"
      ]
     },
     "execution_count": 2,
     "metadata": {},
     "output_type": "execute_result"
    }
   ],
   "source": [
    "# convert the data to pandas DataFrame.\n",
    "data = pd.read_csv(\"TaskData.csv\")\n",
    "data"
   ]
  },
  {
   "cell_type": "code",
   "execution_count": 3,
   "metadata": {},
   "outputs": [
    {
     "data": {
      "text/html": [
       "<div>\n",
       "<style scoped>\n",
       "    .dataframe tbody tr th:only-of-type {\n",
       "        vertical-align: middle;\n",
       "    }\n",
       "\n",
       "    .dataframe tbody tr th {\n",
       "        vertical-align: top;\n",
       "    }\n",
       "\n",
       "    .dataframe thead th {\n",
       "        text-align: right;\n",
       "    }\n",
       "</style>\n",
       "<table border=\"1\" class=\"dataframe\">\n",
       "  <thead>\n",
       "    <tr style=\"text-align: right;\">\n",
       "      <th></th>\n",
       "      <th>account</th>\n",
       "      <th>date</th>\n",
       "      <th>fraud</th>\n",
       "      <th>merchant</th>\n",
       "    </tr>\n",
       "  </thead>\n",
       "  <tbody>\n",
       "    <tr>\n",
       "      <th>count</th>\n",
       "      <td>89851</td>\n",
       "      <td>89851</td>\n",
       "      <td>89851</td>\n",
       "      <td>89851</td>\n",
       "    </tr>\n",
       "    <tr>\n",
       "      <th>unique</th>\n",
       "      <td>1000</td>\n",
       "      <td>30</td>\n",
       "      <td>2</td>\n",
       "      <td>100</td>\n",
       "    </tr>\n",
       "    <tr>\n",
       "      <th>top</th>\n",
       "      <td>A831</td>\n",
       "      <td>2015-01-12</td>\n",
       "      <td>False</td>\n",
       "      <td>M8</td>\n",
       "    </tr>\n",
       "    <tr>\n",
       "      <th>freq</th>\n",
       "      <td>121</td>\n",
       "      <td>3081</td>\n",
       "      <td>88503</td>\n",
       "      <td>998</td>\n",
       "    </tr>\n",
       "  </tbody>\n",
       "</table>\n",
       "</div>"
      ],
      "text/plain": [
       "       account        date  fraud merchant\n",
       "count    89851       89851  89851    89851\n",
       "unique    1000          30      2      100\n",
       "top       A831  2015-01-12  False       M8\n",
       "freq       121        3081  88503      998"
      ]
     },
     "execution_count": 3,
     "metadata": {},
     "output_type": "execute_result"
    }
   ],
   "source": [
    "data.describe()"
   ]
  },
  {
   "cell_type": "markdown",
   "metadata": {},
   "source": [
    "The dataset contains 89851 transactions between 100 different merchants and 1000 different accounts. "
   ]
  },
  {
   "cell_type": "code",
   "execution_count": 4,
   "metadata": {},
   "outputs": [
    {
     "data": {
      "text/plain": [
       "2015-01-12    3081\n",
       "2015-01-01    3079\n",
       "2015-01-08    3066\n",
       "2015-01-22    3057\n",
       "2015-01-15    3046\n",
       "2015-01-11    3029\n",
       "2015-01-19    3027\n",
       "2015-01-04    3025\n",
       "2015-01-09    3024\n",
       "2015-01-27    3022\n",
       "2015-01-16    3018\n",
       "2015-01-28    3011\n",
       "2015-01-26    3008\n",
       "2015-01-21    3006\n",
       "2015-01-24    3005\n",
       "2015-01-10    2999\n",
       "2015-01-02    2999\n",
       "2015-01-23    2997\n",
       "2015-01-06    2993\n",
       "2015-01-14    2981\n",
       "2015-01-25    2975\n",
       "2015-01-03    2958\n",
       "2015-01-05    2957\n",
       "2015-01-13    2955\n",
       "2015-01-07    2954\n",
       "2015-01-30    2953\n",
       "2015-01-18    2937\n",
       "2015-01-17    2910\n",
       "2015-01-29    2906\n",
       "2015-01-20    2873\n",
       "Name: date, dtype: int64"
      ]
     },
     "execution_count": 4,
     "metadata": {},
     "output_type": "execute_result"
    }
   ],
   "source": [
    "data['date'].value_counts()"
   ]
  },
  {
   "cell_type": "markdown",
   "metadata": {},
   "source": [
    "The transactions are roughly evenly distributed over the month. "
   ]
  },
  {
   "cell_type": "code",
   "execution_count": 5,
   "metadata": {},
   "outputs": [
    {
     "data": {
      "text/plain": [
       "M8     998\n",
       "M61    966\n",
       "M83    956\n",
       "M87    951\n",
       "M48    946\n",
       "      ... \n",
       "M86    843\n",
       "M14    842\n",
       "M42    839\n",
       "M17    837\n",
       "M98    830\n",
       "Name: merchant, Length: 100, dtype: int64"
      ]
     },
     "execution_count": 5,
     "metadata": {},
     "output_type": "execute_result"
    }
   ],
   "source": [
    "data['merchant'].value_counts()"
   ]
  },
  {
   "cell_type": "markdown",
   "metadata": {},
   "source": [
    "Although M8 is the most popular merchant, its number of transactions is not significantly higher than for other merchants, and in general the transactions seem to be roughly evenly distributed accross each merchant."
   ]
  },
  {
   "cell_type": "code",
   "execution_count": 6,
   "metadata": {},
   "outputs": [
    {
     "data": {
      "text/plain": [
       "A831    121\n",
       "A86     120\n",
       "A425    117\n",
       "A559    116\n",
       "A139    115\n",
       "       ... \n",
       "A798     66\n",
       "A412     64\n",
       "A289     63\n",
       "A121     63\n",
       "A292     61\n",
       "Name: account, Length: 1000, dtype: int64"
      ]
     },
     "execution_count": 6,
     "metadata": {},
     "output_type": "execute_result"
    }
   ],
   "source": [
    "data['account'].value_counts()"
   ]
  },
  {
   "cell_type": "markdown",
   "metadata": {},
   "source": [
    "Number of transactions performed by each account ranges from 61 to 121."
   ]
  },
  {
   "cell_type": "markdown",
   "metadata": {},
   "source": [
    "# Dates of Exploit\n",
    "\n",
    "First, we'll try to identify the potential dates of exploit of the defrauded data. We must find days when an unusually high number of fraudulent transactions took place."
   ]
  },
  {
   "cell_type": "code",
   "execution_count": 23,
   "metadata": {},
   "outputs": [
    {
     "data": {
      "image/png": "[encoded data removed]",
      "text/plain": [
       "<Figure size 1800x576 with 1 Axes>"
      ]
     },
     "metadata": {},
     "output_type": "display_data"
    }
   ],
   "source": [
    "# sum the fraudulent transactions on each day\n",
    "fraud_sum = data.groupby('date')['fraud'].sum().rename('frauds_sum')\n",
    "\n",
    "# create a bar plot visualizing the number of \n",
    "# fraudulent transactions on each day\n",
    "ax = fraud_sum.plot.bar(figsize=(25,8), fontsize=13, xlabel='Dates', ylabel='Fraudulent Transactions', rot=45)"
   ]
  },
  {
   "cell_type": "code",
   "execution_count": 25,
   "metadata": {},
   "outputs": [
    {
     "name": "stdout",
     "output_type": "stream",
     "text": [
      "41 %\n"
     ]
    }
   ],
   "source": [
    "# convert to DataFrame with two columns:\n",
    "# 'date' and 'frauds_sum'\n",
    "fraud_sum = fraud_sum.reset_index()\n",
    "\n",
    "# boolean mask to filter the transactions\n",
    "mask = (fraud_sum['date'] >= '2015-01-21') & (fraud_sum['date'] <= '2015-01-23')\n",
    "\n",
    "# sum of fraud transactions\n",
    "# between 21-01-2015 and 23-01-2015\n",
    "sum_21_to_23 = fraud_sum.loc[mask]['frauds_sum'].sum()\n",
    "\n",
    "# sum of all fraud transactions\n",
    "sum_all = fraud_sum['frauds_sum'].sum()\n",
    "\n",
    "# ratio of two sums\n",
    "r = round((sum_21_to_23 / sum_all) * 100)\n",
    "\n",
    "print('{} %'.format(r))"
   ]
  },
  {
   "cell_type": "markdown",
   "metadata": {},
   "source": [
    "We can observe a significant peak in the number of fraudulent transactions that took place from 21-01-2015 to 23-01-2015 (41% of all the frauds were registered during these three days). It let us assume that this are the dates of the exploitation of the previously harvested data."
   ]
  },
  {
   "cell_type": "markdown",
   "metadata": {},
   "source": [
    "# Defrauded Accounts\n",
    "\n",
    "Our next step will be identifying the defrauded accounts, i.e. the accounts which were stolen from the common point of compromise. We will select all the unique accounts which performed the fraudulent transactions on days from 21-01-2015 to 23-01-2015. We must keep in mind that some of these transactions could be other kind of frauds unrelated to our task (e.g. using a lost card). Nevertheless, still the majority of them should be performed by the accounts which data were harvested from the compromised merchant."
   ]
  },
  {
   "cell_type": "code",
   "execution_count": 26,
   "metadata": {},
   "outputs": [
    {
     "data": {
      "text/html": [
       "<div>\n",
       "<style scoped>\n",
       "    .dataframe tbody tr th:only-of-type {\n",
       "        vertical-align: middle;\n",
       "    }\n",
       "\n",
       "    .dataframe tbody tr th {\n",
       "        vertical-align: top;\n",
       "    }\n",
       "\n",
       "    .dataframe thead th {\n",
       "        text-align: right;\n",
       "    }\n",
       "</style>\n",
       "<table border=\"1\" class=\"dataframe\">\n",
       "  <thead>\n",
       "    <tr style=\"text-align: right;\">\n",
       "      <th></th>\n",
       "      <th>account</th>\n",
       "      <th>date</th>\n",
       "      <th>fraud</th>\n",
       "      <th>merchant</th>\n",
       "    </tr>\n",
       "  </thead>\n",
       "  <tbody>\n",
       "    <tr>\n",
       "      <th>59937</th>\n",
       "      <td>A8</td>\n",
       "      <td>2015-01-21</td>\n",
       "      <td>True</td>\n",
       "      <td>M99</td>\n",
       "    </tr>\n",
       "    <tr>\n",
       "      <th>59938</th>\n",
       "      <td>A8</td>\n",
       "      <td>2015-01-21</td>\n",
       "      <td>True</td>\n",
       "      <td>M73</td>\n",
       "    </tr>\n",
       "    <tr>\n",
       "      <th>59939</th>\n",
       "      <td>A8</td>\n",
       "      <td>2015-01-21</td>\n",
       "      <td>True</td>\n",
       "      <td>M47</td>\n",
       "    </tr>\n",
       "    <tr>\n",
       "      <th>59940</th>\n",
       "      <td>A8</td>\n",
       "      <td>2015-01-21</td>\n",
       "      <td>True</td>\n",
       "      <td>M0</td>\n",
       "    </tr>\n",
       "    <tr>\n",
       "      <th>59941</th>\n",
       "      <td>A8</td>\n",
       "      <td>2015-01-21</td>\n",
       "      <td>True</td>\n",
       "      <td>M41</td>\n",
       "    </tr>\n",
       "    <tr>\n",
       "      <th>...</th>\n",
       "      <td>...</td>\n",
       "      <td>...</td>\n",
       "      <td>...</td>\n",
       "      <td>...</td>\n",
       "    </tr>\n",
       "    <tr>\n",
       "      <th>68819</th>\n",
       "      <td>A952</td>\n",
       "      <td>2015-01-23</td>\n",
       "      <td>True</td>\n",
       "      <td>M86</td>\n",
       "    </tr>\n",
       "    <tr>\n",
       "      <th>68820</th>\n",
       "      <td>A952</td>\n",
       "      <td>2015-01-23</td>\n",
       "      <td>True</td>\n",
       "      <td>M88</td>\n",
       "    </tr>\n",
       "    <tr>\n",
       "      <th>68821</th>\n",
       "      <td>A952</td>\n",
       "      <td>2015-01-23</td>\n",
       "      <td>True</td>\n",
       "      <td>M94</td>\n",
       "    </tr>\n",
       "    <tr>\n",
       "      <th>68941</th>\n",
       "      <td>A992</td>\n",
       "      <td>2015-01-23</td>\n",
       "      <td>True</td>\n",
       "      <td>M13</td>\n",
       "    </tr>\n",
       "    <tr>\n",
       "      <th>68964</th>\n",
       "      <td>A998</td>\n",
       "      <td>2015-01-23</td>\n",
       "      <td>True</td>\n",
       "      <td>M16</td>\n",
       "    </tr>\n",
       "  </tbody>\n",
       "</table>\n",
       "<p>551 rows × 4 columns</p>\n",
       "</div>"
      ],
      "text/plain": [
       "      account        date  fraud merchant\n",
       "59937      A8  2015-01-21   True      M99\n",
       "59938      A8  2015-01-21   True      M73\n",
       "59939      A8  2015-01-21   True      M47\n",
       "59940      A8  2015-01-21   True       M0\n",
       "59941      A8  2015-01-21   True      M41\n",
       "...       ...         ...    ...      ...\n",
       "68819    A952  2015-01-23   True      M86\n",
       "68820    A952  2015-01-23   True      M88\n",
       "68821    A952  2015-01-23   True      M94\n",
       "68941    A992  2015-01-23   True      M13\n",
       "68964    A998  2015-01-23   True      M16\n",
       "\n",
       "[551 rows x 4 columns]"
      ]
     },
     "execution_count": 26,
     "metadata": {},
     "output_type": "execute_result"
    }
   ],
   "source": [
    "# boolean mask to filter the transactions\n",
    "mask = (data['date'] >= '2015-01-21') & (data['date'] <= '2015-01-23') & (data['fraud'] == True)\n",
    "\n",
    "# all the fraudulent transactions \n",
    "# between 21-01-2015 and 23-01-2015\n",
    "fraud_transactions = data.loc[mask]\n",
    "fraud_transactions"
   ]
  },
  {
   "cell_type": "code",
   "execution_count": 27,
   "metadata": {},
   "outputs": [
    {
     "name": "stdout",
     "output_type": "stream",
     "text": [
      "59937      A8\n",
      "59969     A16\n",
      "60015     A32\n",
      "60030     A37\n",
      "60038     A40\n",
      "         ... \n",
      "68270    A771\n",
      "68630    A886\n",
      "68796    A942\n",
      "68941    A992\n",
      "68964    A998\n",
      "Name: account, Length: 148, dtype: object\n"
     ]
    }
   ],
   "source": [
    "# select all the accounts that performed fraudulent\n",
    "# transactions during the dates of exploit \n",
    "defrauded_acc = fraud_transactions[\"account\"].drop_duplicates()\n",
    "print(defrauded_acc)\n",
    "defrauded_acc = defrauded_acc.values.tolist()"
   ]
  },
  {
   "cell_type": "markdown",
   "metadata": {},
   "source": [
    "148 different accounts performed the fraudulent transactions from 21-01-2015 to 23-01-2015."
   ]
  },
  {
   "cell_type": "markdown",
   "metadata": {},
   "source": [
    "# Compromised Merchant\n",
    "\n",
    "Having obtained the list of the defrauded accounts we can identify the compromised merchant. We know that 'the common point of compromise can be identified when an unusually high number of defrauded accounts transacted with the same merchant, some time before fraudulent transactions were seen for those accounts'. Therefore, we can use the following approach: inspect the transactions performed by the defrauded accounts which took place before 21-01-2015 and count with how many of these accounts each merchant transacted. The merchant with the highest 'account count' is probably the compromised one."
   ]
  },
  {
   "cell_type": "code",
   "execution_count": 28,
   "metadata": {},
   "outputs": [
    {
     "data": {
      "text/html": [
       "<div>\n",
       "<style scoped>\n",
       "    .dataframe tbody tr th:only-of-type {\n",
       "        vertical-align: middle;\n",
       "    }\n",
       "\n",
       "    .dataframe tbody tr th {\n",
       "        vertical-align: top;\n",
       "    }\n",
       "\n",
       "    .dataframe thead th {\n",
       "        text-align: right;\n",
       "    }\n",
       "</style>\n",
       "<table border=\"1\" class=\"dataframe\">\n",
       "  <thead>\n",
       "    <tr style=\"text-align: right;\">\n",
       "      <th></th>\n",
       "      <th>account</th>\n",
       "      <th>date</th>\n",
       "      <th>fraud</th>\n",
       "      <th>merchant</th>\n",
       "    </tr>\n",
       "  </thead>\n",
       "  <tbody>\n",
       "    <tr>\n",
       "      <th>24</th>\n",
       "      <td>A6</td>\n",
       "      <td>2015-01-01</td>\n",
       "      <td>False</td>\n",
       "      <td>M6</td>\n",
       "    </tr>\n",
       "    <tr>\n",
       "      <th>25</th>\n",
       "      <td>A6</td>\n",
       "      <td>2015-01-01</td>\n",
       "      <td>False</td>\n",
       "      <td>M91</td>\n",
       "    </tr>\n",
       "    <tr>\n",
       "      <th>26</th>\n",
       "      <td>A6</td>\n",
       "      <td>2015-01-01</td>\n",
       "      <td>False</td>\n",
       "      <td>M64</td>\n",
       "    </tr>\n",
       "    <tr>\n",
       "      <th>27</th>\n",
       "      <td>A6</td>\n",
       "      <td>2015-01-01</td>\n",
       "      <td>False</td>\n",
       "      <td>M88</td>\n",
       "    </tr>\n",
       "    <tr>\n",
       "      <th>30</th>\n",
       "      <td>A8</td>\n",
       "      <td>2015-01-01</td>\n",
       "      <td>False</td>\n",
       "      <td>M46</td>\n",
       "    </tr>\n",
       "    <tr>\n",
       "      <th>...</th>\n",
       "      <td>...</td>\n",
       "      <td>...</td>\n",
       "      <td>...</td>\n",
       "      <td>...</td>\n",
       "    </tr>\n",
       "    <tr>\n",
       "      <th>59895</th>\n",
       "      <td>A991</td>\n",
       "      <td>2015-01-20</td>\n",
       "      <td>False</td>\n",
       "      <td>M60</td>\n",
       "    </tr>\n",
       "    <tr>\n",
       "      <th>59896</th>\n",
       "      <td>A992</td>\n",
       "      <td>2015-01-20</td>\n",
       "      <td>False</td>\n",
       "      <td>M41</td>\n",
       "    </tr>\n",
       "    <tr>\n",
       "      <th>59897</th>\n",
       "      <td>A992</td>\n",
       "      <td>2015-01-20</td>\n",
       "      <td>False</td>\n",
       "      <td>M44</td>\n",
       "    </tr>\n",
       "    <tr>\n",
       "      <th>59898</th>\n",
       "      <td>A992</td>\n",
       "      <td>2015-01-20</td>\n",
       "      <td>False</td>\n",
       "      <td>M42</td>\n",
       "    </tr>\n",
       "    <tr>\n",
       "      <th>59908</th>\n",
       "      <td>A998</td>\n",
       "      <td>2015-01-20</td>\n",
       "      <td>True</td>\n",
       "      <td>M83</td>\n",
       "    </tr>\n",
       "  </tbody>\n",
       "</table>\n",
       "<p>8835 rows × 4 columns</p>\n",
       "</div>"
      ],
      "text/plain": [
       "      account        date  fraud merchant\n",
       "24         A6  2015-01-01  False       M6\n",
       "25         A6  2015-01-01  False      M91\n",
       "26         A6  2015-01-01  False      M64\n",
       "27         A6  2015-01-01  False      M88\n",
       "30         A8  2015-01-01  False      M46\n",
       "...       ...         ...    ...      ...\n",
       "59895    A991  2015-01-20  False      M60\n",
       "59896    A992  2015-01-20  False      M41\n",
       "59897    A992  2015-01-20  False      M44\n",
       "59898    A992  2015-01-20  False      M42\n",
       "59908    A998  2015-01-20   True      M83\n",
       "\n",
       "[8835 rows x 4 columns]"
      ]
     },
     "execution_count": 28,
     "metadata": {},
     "output_type": "execute_result"
    }
   ],
   "source": [
    "# select transcations of the defrauded accounts before 21-01-2015\n",
    "mask = (data['date'] < '2015-01-21') & (data['account'].isin(defrauded_acc))\n",
    "\n",
    "bfr_exploit_trans = data.loc[mask]\n",
    "bfr_exploit_trans"
   ]
  },
  {
   "cell_type": "code",
   "execution_count": 29,
   "metadata": {},
   "outputs": [
    {
     "data": {
      "text/plain": [
       "merchant\n",
       "M18    91\n",
       "M8     78\n",
       "M61    77\n",
       "M94    76\n",
       "M53    75\n",
       "M76    75\n",
       "M92    74\n",
       "M31    74\n",
       "M48    74\n",
       "M21    73\n",
       "M68    73\n",
       "M79    73\n",
       "M22    73\n",
       "M0     73\n",
       "M95    73\n",
       "M17    73\n",
       "M85    72\n",
       "M25    72\n",
       "M91    72\n",
       "M57    71\n",
       "Name: account, dtype: int64"
      ]
     },
     "execution_count": 29,
     "metadata": {},
     "output_type": "execute_result"
    }
   ],
   "source": [
    "# count with how many defrauded accounts has each merchant transacted\n",
    "acc_per_mrchnt = bfr_exploit_trans.groupby('merchant')['account'].nunique().sort_values(ascending=False)\n",
    "acc_per_mrchnt.head(20)"
   ]
  },
  {
   "cell_type": "code",
   "execution_count": 30,
   "metadata": {},
   "outputs": [
    {
     "data": {
      "image/png": "[encoded data removed]",
      "text/plain": [
       "<Figure size 1800x576 with 1 Axes>"
      ]
     },
     "metadata": {},
     "output_type": "display_data"
    }
   ],
   "source": [
    "# plot data\n",
    "ax = acc_per_mrchnt.head(20).plot.bar(figsize=(25,8), fontsize=13, xlabel='Merchant', ylabel='Defrauded Accounts', rot=0)"
   ]
  },
  {
   "cell_type": "markdown",
   "metadata": {},
   "source": [
    "The M18 transacted with 91 defrauded accounts, which is 13 more than the second most popular merchant M8. If we look at the top 20, we can see that the difference between the consecutive merchants is normally equal to 1. It indicates an anomaly, and let us suspect that M18 is the compromised merchant. To prove that we must show that transactions between these accounts and M18 were cumulated in some period, a few days before the exploitation started."
   ]
  },
  {
   "cell_type": "markdown",
   "metadata": {},
   "source": [
    "# Dates of Harvest\n",
    "\n",
    "To indicate the dates of the compromise we will simply count with how many defrauded accounts the M18 transacted on each day. The dates with the largest number should be the days we are looking for."
   ]
  },
  {
   "cell_type": "code",
   "execution_count": 31,
   "metadata": {},
   "outputs": [
    {
     "data": {
      "text/plain": [
       "date\n",
       "2015-01-01     2\n",
       "2015-01-02     4\n",
       "2015-01-03     2\n",
       "2015-01-04     4\n",
       "2015-01-05     5\n",
       "2015-01-06     2\n",
       "2015-01-07     3\n",
       "2015-01-08     5\n",
       "2015-01-09     3\n",
       "2015-01-10     3\n",
       "2015-01-11     3\n",
       "2015-01-12     5\n",
       "2015-01-13     6\n",
       "2015-01-14     4\n",
       "2015-01-15    22\n",
       "2015-01-16    32\n",
       "2015-01-17     1\n",
       "2015-01-19     3\n",
       "2015-01-20     6\n",
       "Name: account, dtype: int64"
      ]
     },
     "execution_count": 31,
     "metadata": {},
     "output_type": "execute_result"
    }
   ],
   "source": [
    "# all transactions between defrauded accounts and M18 which took place before 21-01-2015\n",
    "bfr_exploit_m18_trans = bfr_exploit_trans[bfr_exploit_trans['merchant'] == 'M18']\n",
    "\n",
    "# count with how many defrauded accounts M18 transacted on each day\n",
    "m18_acc_per_day = bfr_exploit_m18_trans.groupby('date')['account'].nunique()\n",
    "m18_acc_per_day"
   ]
  },
  {
   "cell_type": "markdown",
   "metadata": {},
   "source": [
    "Note that the value for 2015-01-18 is missing, which means no transactions with any of the defrauded accounts were registered on this day."
   ]
  },
  {
   "cell_type": "code",
   "execution_count": 32,
   "metadata": {},
   "outputs": [
    {
     "data": {
      "image/png": "[encoded data removed]",
      "text/plain": [
       "<Figure size 1800x576 with 1 Axes>"
      ]
     },
     "metadata": {},
     "output_type": "display_data"
    }
   ],
   "source": [
    "# plot data\n",
    "ax = m18_acc_per_day.plot.bar(x='date', figsize=(25,8), fontsize=13, xlabel='Dates', ylabel='Defrauded Accounts', rot=45)"
   ]
  },
  {
   "cell_type": "markdown",
   "metadata": {},
   "source": [
    "The unusually high number of defrauded accounts transacted with M18 merchant on 15-01-2015 and 16-01-2015. Also, there is a delay of 5 days between the second date and the previously identified start date of the exploitation. It matches the typical two-stage pattern of the compromise described in the task brief. Therefore, we can conclude that M18 merchant was compromised and fraudsters harvested the data on 15-01-2015 and 16-01-2015."
   ]
  },
  {
   "cell_type": "markdown",
   "metadata": {},
   "source": [
    "# Alternative Method\n",
    "\n",
    "The initial method of finding the compromised merchant and the dates of exploit can be reduced to one single step. Before, we first identified the potential compromised merchant by looking at the TOTAL count of all the defrauded accounts which transacted with each merchant before the exploitation dates. Next, we checked if transactions between these accounts and suspected merchant were cumulated in some short period. However, if we were given a scenario where some merchant had transacted with the largest number of such accounts, but this transactions were evenly distributed between all days, we would have to inspect the next most popular merchant. \n",
    "Instead, for each day, we can select the 'top merchant' (i.e. merchant which transacted with the highest number of defrauded accounts on a particular day). It let us identify, right away, when the largest number occured and which merchant was associated with it."
   ]
  },
  {
   "cell_type": "code",
   "execution_count": 35,
   "metadata": {},
   "outputs": [
    {
     "data": {
      "text/html": [
       "<div>\n",
       "<style scoped>\n",
       "    .dataframe tbody tr th:only-of-type {\n",
       "        vertical-align: middle;\n",
       "    }\n",
       "\n",
       "    .dataframe tbody tr th {\n",
       "        vertical-align: top;\n",
       "    }\n",
       "\n",
       "    .dataframe thead th {\n",
       "        text-align: right;\n",
       "    }\n",
       "</style>\n",
       "<table border=\"1\" class=\"dataframe\">\n",
       "  <thead>\n",
       "    <tr style=\"text-align: right;\">\n",
       "      <th></th>\n",
       "      <th></th>\n",
       "      <th>accounts_sum</th>\n",
       "    </tr>\n",
       "    <tr>\n",
       "      <th>date</th>\n",
       "      <th>merchant</th>\n",
       "      <th></th>\n",
       "    </tr>\n",
       "  </thead>\n",
       "  <tbody>\n",
       "    <tr>\n",
       "      <th>2015-01-01</th>\n",
       "      <th>M91</th>\n",
       "      <td>9</td>\n",
       "    </tr>\n",
       "    <tr>\n",
       "      <th>2015-01-02</th>\n",
       "      <th>M65</th>\n",
       "      <td>9</td>\n",
       "    </tr>\n",
       "    <tr>\n",
       "      <th>2015-01-03</th>\n",
       "      <th>M76</th>\n",
       "      <td>9</td>\n",
       "    </tr>\n",
       "    <tr>\n",
       "      <th>2015-01-04</th>\n",
       "      <th>M91</th>\n",
       "      <td>11</td>\n",
       "    </tr>\n",
       "    <tr>\n",
       "      <th>2015-01-05</th>\n",
       "      <th>M53</th>\n",
       "      <td>9</td>\n",
       "    </tr>\n",
       "    <tr>\n",
       "      <th>2015-01-06</th>\n",
       "      <th>M22</th>\n",
       "      <td>12</td>\n",
       "    </tr>\n",
       "    <tr>\n",
       "      <th>2015-01-07</th>\n",
       "      <th>M62</th>\n",
       "      <td>10</td>\n",
       "    </tr>\n",
       "    <tr>\n",
       "      <th>2015-01-08</th>\n",
       "      <th>M51</th>\n",
       "      <td>10</td>\n",
       "    </tr>\n",
       "    <tr>\n",
       "      <th>2015-01-09</th>\n",
       "      <th>M95</th>\n",
       "      <td>11</td>\n",
       "    </tr>\n",
       "    <tr>\n",
       "      <th>2015-01-10</th>\n",
       "      <th>M44</th>\n",
       "      <td>11</td>\n",
       "    </tr>\n",
       "    <tr>\n",
       "      <th>2015-01-11</th>\n",
       "      <th>M83</th>\n",
       "      <td>8</td>\n",
       "    </tr>\n",
       "    <tr>\n",
       "      <th>2015-01-12</th>\n",
       "      <th>M61</th>\n",
       "      <td>10</td>\n",
       "    </tr>\n",
       "    <tr>\n",
       "      <th>2015-01-13</th>\n",
       "      <th>M92</th>\n",
       "      <td>8</td>\n",
       "    </tr>\n",
       "    <tr>\n",
       "      <th>2015-01-14</th>\n",
       "      <th>M50</th>\n",
       "      <td>9</td>\n",
       "    </tr>\n",
       "    <tr>\n",
       "      <th>2015-01-15</th>\n",
       "      <th>M18</th>\n",
       "      <td>22</td>\n",
       "    </tr>\n",
       "    <tr>\n",
       "      <th>2015-01-16</th>\n",
       "      <th>M18</th>\n",
       "      <td>32</td>\n",
       "    </tr>\n",
       "    <tr>\n",
       "      <th>2015-01-17</th>\n",
       "      <th>M56</th>\n",
       "      <td>9</td>\n",
       "    </tr>\n",
       "    <tr>\n",
       "      <th>2015-01-18</th>\n",
       "      <th>M68</th>\n",
       "      <td>8</td>\n",
       "    </tr>\n",
       "    <tr>\n",
       "      <th>2015-01-19</th>\n",
       "      <th>M25</th>\n",
       "      <td>11</td>\n",
       "    </tr>\n",
       "    <tr>\n",
       "      <th>2015-01-20</th>\n",
       "      <th>M6</th>\n",
       "      <td>10</td>\n",
       "    </tr>\n",
       "  </tbody>\n",
       "</table>\n",
       "</div>"
      ],
      "text/plain": [
       "                     accounts_sum\n",
       "date       merchant              \n",
       "2015-01-01 M91                  9\n",
       "2015-01-02 M65                  9\n",
       "2015-01-03 M76                  9\n",
       "2015-01-04 M91                 11\n",
       "2015-01-05 M53                  9\n",
       "2015-01-06 M22                 12\n",
       "2015-01-07 M62                 10\n",
       "2015-01-08 M51                 10\n",
       "2015-01-09 M95                 11\n",
       "2015-01-10 M44                 11\n",
       "2015-01-11 M83                  8\n",
       "2015-01-12 M61                 10\n",
       "2015-01-13 M92                  8\n",
       "2015-01-14 M50                  9\n",
       "2015-01-15 M18                 22\n",
       "2015-01-16 M18                 32\n",
       "2015-01-17 M56                  9\n",
       "2015-01-18 M68                  8\n",
       "2015-01-19 M25                 11\n",
       "2015-01-20 M6                  10"
      ]
     },
     "execution_count": 35,
     "metadata": {},
     "output_type": "execute_result"
    }
   ],
   "source": [
    "# for each day and merchant, count the number of defrauded accounts\n",
    "# the merchant transacted with \n",
    "acc_per_day_mercht = bfr_exploit_trans.groupby(['date', 'merchant'])['account'].nunique().sort_values(ascending=False).rename('accounts_sum')\n",
    "acc_per_day_mercht = acc_per_day_mercht.reset_index()\n",
    "\n",
    "# it will leave only the top values for each day\n",
    "# as the dates are sorted in the descending order\n",
    "acc_per_day_mercht.drop_duplicates('date', inplace=True)\n",
    "\n",
    "acc_per_day_mercht.set_index(['date', 'merchant'], inplace=True)\n",
    "acc_per_day_mercht.sort_index(inplace=True)\n",
    "acc_per_day_mercht"
   ]
  },
  {
   "cell_type": "code",
   "execution_count": 17,
   "metadata": {},
   "outputs": [
    {
     "data": {
      "image/png": "[encoded data removed]",
      "text/plain": [
       "<Figure size 1800x576 with 1 Axes>"
      ]
     },
     "metadata": {},
     "output_type": "display_data"
    }
   ],
   "source": [
    "# plot data\n",
    "ax = acc_per_day_mercht.plot.bar(figsize=(25,8), fontsize=13, xlabel='Dates, Merchants', ylabel='Defrauded Accounts', legend=False, rot=45)"
   ]
  },
  {
   "cell_type": "markdown",
   "metadata": {},
   "source": [
    "Merchant M18 transacted with an unusually high number of defrauded accounts on 15-01-2015 and 16-01-2015, which let us suspect that the merchant was compromised and the data were harvested during these days."
   ]
  },
  {
   "cell_type": "markdown",
   "metadata": {},
   "source": [
    "# Answer\n",
    "- Identity of the compromised merchant: M18\n",
    "- Dates of the compromise: 15-01-2015 and 16-01-2015\n",
    "- Dates of the exploitation: 21-01-2015, 22-01-2015 and 23-01-2015"
   ]
  },
  {
   "cell_type": "markdown",
   "metadata": {},
   "source": [
    "# Conclusions\n",
    "\n",
    "My solution was based on finding anomalies in the dataset and it worked reasonably well as the values related to the common point of compromise were easily distinguishable from the other data (e.g. very high number of frauds during the exploitation dates or significantly larger total number of defrauded accounts that transacted with the compromised merchant). I didn't find any other potential candidates for the compromised merchants, dates of compromise or dates of exploit."
   ]
  }
 ],
 "metadata": {
  "interpreter": {
   "hash": "920cf118a6215e48bd36853205b1b3d465d6aa45587a9e4ff8815ddb832592c1"
  },
  "kernelspec": {
   "display_name": "Python 3.9.2 64-bit",
   "language": "python",
   "name": "python3"
  },
  "language_info": {
   "codemirror_mode": {
    "name": "ipython",
    "version": 3
   },
   "file_extension": ".py",
   "mimetype": "text/x-python",
   "name": "python",
   "nbconvert_exporter": "python",
   "pygments_lexer": "ipython3",
   "version": "3.9.2"
  },
  "orig_nbformat": 4
 },
 "nbformat": 4,
 "nbformat_minor": 2
}
